{
 "cells": [
  {
   "cell_type": "code",
   "execution_count": 1,
   "metadata": {
    "collapsed": false
   },
   "outputs": [],
   "source": [
    "import numpy as np\n",
    "from scipy.stats import mode\n",
    "import seaborn as sns\n",
    "sns.set_style('white')\n",
    "import matplotlib.pyplot as plt\n",
    "%matplotlib inline\n",
    "from warnings import filterwarnings\n",
    "filterwarnings('ignore')"
   ]
  },
  {
   "cell_type": "code",
   "execution_count": 2,
   "metadata": {
    "collapsed": false
   },
   "outputs": [
    {
     "name": "stderr",
     "output_type": "stream",
     "text": [
      "WARNING (theano.sandbox.cuda): The cuda backend is deprecated and will be removed in the next release (v0.10).  Please switch to the gpuarray backend. You can get more information about how to switch at this URL:\n",
      " https://github.com/Theano/Theano/wiki/Converting-to-the-new-gpu-back-end%28gpuarray%29\n",
      "\n",
      "WARNING:theano.sandbox.cuda:The cuda backend is deprecated and will be removed in the next release (v0.10).  Please switch to the gpuarray backend. You can get more information about how to switch at this URL:\n",
      " https://github.com/Theano/Theano/wiki/Converting-to-the-new-gpu-back-end%28gpuarray%29\n",
      "\n",
      "Using gpu device 0: GRID K520 (CNMeM is disabled, cuDNN 5005)\n"
     ]
    }
   ],
   "source": [
    "import theano\n",
    "import pymc3 as pm\n",
    "import lasagne\n",
    "import theano.tensor as T\n",
    "\n",
    "floatX = theano.config.floatX"
   ]
  },
  {
   "cell_type": "code",
   "execution_count": 3,
   "metadata": {
    "collapsed": false
   },
   "outputs": [],
   "source": [
    "import sklearn\n",
    "from sklearn import datasets\n",
    "from sklearn.preprocessing import scale\n",
    "from sklearn.cross_validation import train_test_split\n",
    "from sklearn.datasets import fetch_mldata\n",
    "from sklearn.metrics import accuracy_score"
   ]
  },
  {
   "cell_type": "code",
   "execution_count": 4,
   "metadata": {
    "collapsed": true
   },
   "outputs": [],
   "source": [
    "DATA = 'MNIST'"
   ]
  },
  {
   "cell_type": "code",
   "execution_count": 5,
   "metadata": {
    "collapsed": false
   },
   "outputs": [
    {
     "name": "stdout",
     "output_type": "stream",
     "text": [
      "Loading data...\n",
      "Finished!\n"
     ]
    }
   ],
   "source": [
    "def load_dataset():\n",
    "    # We first define a download function, supporting both Python 2 and 3.\n",
    "    mnist = fetch_mldata('MNIST original')\n",
    "    data = mnist['data'].reshape((70000, 1, 28, 28)).astype(np.float32)\n",
    "    target = mnist['target'].astype(np.float32)\n",
    "    # We can now download and read the training and test set images and labels.\n",
    "    X_train, X_test, y_train, y_test = train_test_split(data, target, test_size=10000)\n",
    "    # We reserve the last 10000 training examples for validation.\n",
    "    X_train, X_val = X_train[:-10000], X_train[-10000:]\n",
    "    y_train, y_val = y_train[:-10000], y_train[-10000:]\n",
    "\n",
    "    # We just return all the arrays in order, as expected in main().\n",
    "    # (It doesn't matter how we do this as long as we can read them again.)\n",
    "    return X_train, y_train, X_val, y_val, X_test, y_test\n",
    "\n",
    "print(\"Loading data...\")\n",
    "X_train, y_train, X_val, y_val, X_test, y_test = load_dataset()\n",
    "print(\"Finished!\")"
   ]
  },
  {
   "cell_type": "code",
   "execution_count": 6,
   "metadata": {
    "collapsed": false
   },
   "outputs": [
    {
     "data": {
      "text/plain": [
       "(None, 1, 28, 28)"
      ]
     },
     "execution_count": 6,
     "metadata": {},
     "output_type": "execute_result"
    }
   ],
   "source": [
    "input_shape = list(X_train.shape)\n",
    "input_shape[0] = None\n",
    "input_shape = tuple(input_shape)\n",
    "input_shape"
   ]
  },
  {
   "cell_type": "code",
   "execution_count": 7,
   "metadata": {
    "collapsed": true
   },
   "outputs": [],
   "source": [
    "class PriorWeights(object):\n",
    "    def __init__(self, mode='W', prior='gauss', **params):\n",
    "        self.count = 0\n",
    "        self.prior = prior\n",
    "        self.mode = mode\n",
    "        params.setdefault('std', 1.)\n",
    "        params.setdefault('hyper', None)\n",
    "        self.params = params\n",
    "    def __call__(self, shape):\n",
    "        self.count += 1\n",
    "        if self.params['hyper'] is None:\n",
    "            std = self.params['std']\n",
    "        elif self.params['hyper'] == 'cauchy':\n",
    "            std = pm.HalfCauchy('hyper_%s%d' % (self.mode, self.count), beta=1.)\n",
    "        elif self.params['hyper'] == 'normal':\n",
    "            std = pm.HalfNormal('hyper_%s%d' % (self.mode, self.count), mu=0., sd=1.)\n",
    "        elif self.params['hyper'] == 'flat':\n",
    "            std = pm.Flat()\n",
    "        if self.prior == 'gauss':\n",
    "            return pm.Normal('%s%d' % (self.mode, self.count), mu=0, sd=std, \n",
    "                         testval=np.random.normal(size=shape).astype(np.float64),\n",
    "                         shape=shape)\n",
    "        elif self.prior == 'laplace': \n",
    "            return pm.Laplace('%s%d' % (self.mode, self.count), mu=0, b=std, \n",
    "                         testval=np.random.normal(size=shape).astype(np.float64),\n",
    "                         shape=shape)\n",
    "        elif self.prior == 'flat':\n",
    "            return pm.Flat('%s%d' % (self.mode, self.count), \n",
    "                           testval=np.random.normal(size=shape).astype(np.float64), \n",
    "                           shape=shape)"
   ]
  },
  {
   "cell_type": "code",
   "execution_count": 8,
   "metadata": {
    "collapsed": false
   },
   "outputs": [],
   "source": [
    "def build_ann(prior_b, prior_W, input_var, target_var, \n",
    "              input_shape, params=[176, 64, 10]):\n",
    "    \n",
    "    n_hid1, n_hid2, n_classes = params\n",
    "    with pm.Model() as neural_network:\n",
    "        l_in = lasagne.layers.InputLayer(shape=input_shape,\n",
    "                                         input_var=input_var)\n",
    "        l_conv1 = lasagne.layers.Conv2DLayer(\n",
    "                            l_in, num_filters=32, filter_size=(5, 5),\n",
    "                            b=prior_b, W=prior_W,\n",
    "                            nonlinearity=lasagne.nonlinearities.tanh)\n",
    "        \n",
    "        l_pool1 = lasagne.layers.MaxPool2DLayer(l_conv1, pool_size=(2, 2))\n",
    "        \n",
    "        l_conv2 = lasagne.layers.Conv2DLayer(\n",
    "                            l_pool1, num_filters=32, filter_size=(5, 5),\n",
    "                            b=prior_b, W=prior_W,\n",
    "                            nonlinearity=lasagne.nonlinearities.tanh)\n",
    "\n",
    "        l_pool2 = lasagne.layers.MaxPool2DLayer(l_conv2, pool_size=(2, 2))\n",
    "\n",
    "        l_dense1 = lasagne.layers.DenseLayer(\n",
    "                            l_pool2, num_units=n_hid1,\n",
    "                            b=prior_b, W=prior_W,\n",
    "                            nonlinearity=lasagne.nonlinearities.tanh)\n",
    "\n",
    "        l_dense2 = lasagne.layers.DenseLayer(\n",
    "                            l_pool2, num_units=n_hid2,\n",
    "                            b=prior_b, W=prior_W,\n",
    "                            nonlinearity=lasagne.nonlinearities.tanh)\n",
    "\n",
    "        l_out = lasagne.layers.DenseLayer(\n",
    "                            l_dense2, num_units=n_classes,\n",
    "                            b=prior_b, W=prior_W,\n",
    "                            nonlinearity=lasagne.nonlinearities.softmax,\n",
    "        )\n",
    "\n",
    "        prediction = lasagne.layers.get_output(l_out)\n",
    "        \n",
    "        out = pm.Categorical('out', prediction,\n",
    "                           observed=target_var,\n",
    "                           total_size=y_train.shape[0])\n",
    "    \n",
    "    return neural_network"
   ]
  },
  {
   "cell_type": "code",
   "execution_count": 9,
   "metadata": {
    "collapsed": true
   },
   "outputs": [],
   "source": [
    "def create_minibatch(data):\n",
    "    rng = np.random.RandomState(0)\n",
    "    \n",
    "    while True:\n",
    "        ixs = rng.randint(len(data), size=100)\n",
    "        yield data[ixs]"
   ]
  },
  {
   "cell_type": "code",
   "execution_count": 10,
   "metadata": {
    "collapsed": true
   },
   "outputs": [],
   "source": [
    "def get_prediction(samples_proba):\n",
    "    return mode(np.argmax(sample_proba(X_test, 500), \n",
    "                          axis=-1), axis=0).mode[0]"
   ]
  },
  {
   "cell_type": "code",
   "execution_count": 11,
   "metadata": {
    "collapsed": false
   },
   "outputs": [],
   "source": [
    "minibatch_X = pm.generator(create_minibatch(X_train))\n",
    "minibatch_y = pm.generator(create_minibatch(y_train))\n",
    "neural_network_minibatch = build_ann(PriorWeights(mode='b', prior='gauss', std=0.1), \n",
    "                                     PriorWeights(mode='W', prior='gauss', std=0.1),\n",
    "                                     minibatch_X, minibatch_y, \n",
    "                                     input_shape, params=[176, 64, 10])"
   ]
  },
  {
   "cell_type": "code",
   "execution_count": 12,
   "metadata": {
    "collapsed": true
   },
   "outputs": [],
   "source": [
    "ADVI_ITERS = 80000\n",
    "N_SAMPLES = 500"
   ]
  },
  {
   "cell_type": "code",
   "execution_count": 13,
   "metadata": {
    "collapsed": false
   },
   "outputs": [
    {
     "name": "stderr",
     "output_type": "stream",
     "text": [
      "Average Loss = 19,106: 100%|██████████| 80000/80000 [17:30<00:00, 76.15it/s]\n"
     ]
    }
   ],
   "source": [
    "with neural_network_minibatch:\n",
    "    inference = pm.ADVI()\n",
    "    approx = pm.fit(ADVI_ITERS, method=inference)"
   ]
  },
  {
   "cell_type": "code",
   "execution_count": 14,
   "metadata": {
    "collapsed": false
   },
   "outputs": [
    {
     "data": {
      "text/plain": [
       "[<matplotlib.lines.Line2D at 0x7fa1ece61490>]"
      ]
     },
     "execution_count": 14,
     "metadata": {},
     "output_type": "execute_result"
    },
    {
     "data": {
      "image/png": "[encoded data removed]",
      "text/plain": [
       "<matplotlib.figure.Figure at 0x7fa2011e1610>"
      ]
     },
     "metadata": {},
     "output_type": "display_data"
    }
   ],
   "source": [
    "plt.plot(inference.hist[10:])"
   ]
  },
  {
   "cell_type": "code",
   "execution_count": 15,
   "metadata": {
    "collapsed": false
   },
   "outputs": [],
   "source": [
    "x = T.tensor4('X')\n",
    "n = T.iscalar('n')\n",
    "theano.config.compute_test_value = 'off'\n",
    "_sample_proba = approx.sample_node(neural_network_minibatch.out.distribution.p, \n",
    "                                   size=n,\n",
    "                                   more_replacements={minibatch_X:x})\n",
    "prediction = approx.apply_replacements(neural_network_minibatch.out.distribution.p, \n",
    "                                    deterministic=True, \n",
    "                                    more_replacements={minibatch_X:x})\n",
    "\n",
    "sample_proba = theano.function([x, n], _sample_proba)\n",
    "map_proba = theano.function([x], prediction)"
   ]
  },
  {
   "cell_type": "code",
   "execution_count": 16,
   "metadata": {
    "collapsed": true
   },
   "outputs": [],
   "source": [
    "y_pred_MAP = np.argmax(map_proba(X_test), axis=1)\n",
    "error_under_MAP = y_pred_MAP != y_test\n",
    "error_rate_under_MAP = error_under_MAP.mean()\n",
    "\n",
    "y_preds_posterior = sample_proba(X_test, 100)\n",
    "y_pred_posterior = mode(np.argmax(y_preds_posterior, axis=-1), axis=0).mode[0]\n",
    "error_under_posterior = y_pred_posterior != y_test\n",
    "error_rate_under_posterior = error_under_posterior.mean()"
   ]
  },
  {
   "cell_type": "code",
   "execution_count": 17,
   "metadata": {
    "collapsed": false
   },
   "outputs": [
    {
     "name": "stdout",
     "output_type": "stream",
     "text": [
      "MAP                      : 0.024800\n",
      "predictive posterior mode: 0.025600\n"
     ]
    }
   ],
   "source": [
    "print('MAP                      : %f' % error_rate_under_MAP)\n",
    "print('predictive posterior mode: %f' % error_rate_under_posterior)"
   ]
  },
  {
   "cell_type": "code",
   "execution_count": 18,
   "metadata": {
    "collapsed": true
   },
   "outputs": [],
   "source": [
    "def check_the_error_at(idx):\n",
    "    print('true:', y_test[error_under_posterior][idx],'prediction:', y_pred_posterior[error_under_posterior][idx])\n",
    "    plt.gray()\n",
    "    plt.matshow(X_test[error_under_posterior][idx][0])\n",
    "    plt.show()"
   ]
  },
  {
   "cell_type": "code",
   "execution_count": 19,
   "metadata": {
    "collapsed": false
   },
   "outputs": [
    {
     "data": {
      "text/plain": [
       "(10000, 1, 28, 28)"
      ]
     },
     "execution_count": 19,
     "metadata": {},
     "output_type": "execute_result"
    }
   ],
   "source": [
    "X_test.shape"
   ]
  },
  {
   "cell_type": "code",
   "execution_count": 20,
   "metadata": {
    "collapsed": false
   },
   "outputs": [
    {
     "data": {
      "text/plain": [
       "<matplotlib.figure.Figure at 0x7fa20a7bdd50>"
      ]
     },
     "metadata": {},
     "output_type": "display_data"
    },
    {
     "data": {
      "image/png": "[encoded data removed]",
      "text/plain": [
       "<matplotlib.figure.Figure at 0x7fa20a7bd150>"
      ]
     },
     "metadata": {},
     "output_type": "display_data"
    }
   ],
   "source": [
    "plt.gray()\n",
    "plt.matshow(X_test[0, 0, :, :])\n",
    "plt.axis('off')\n",
    "plt.savefig('pic/'+DATA+'/example.png')\n",
    "plt.show()"
   ]
  },
  {
   "cell_type": "code",
   "execution_count": 22,
   "metadata": {
    "collapsed": false
   },
   "outputs": [
    {
     "data": {
      "image/png": "[encoded data removed]",
      "text/plain": [
       "<matplotlib.figure.Figure at 0x7fa1c47bb150>"
      ]
     },
     "metadata": {},
     "output_type": "display_data"
    }
   ],
   "source": [
    "plt.figure(figsize=(8, 6))\n",
    "plt.tick_params(axis='both', which='major', labelsize=19)\n",
    "plt.tick_params(axis='both', which='minor', labelsize=8)\n",
    "plt.plot(y_preds_posterior.var(0)[error_under_posterior].mean(0), lw=3, label='errors')\n",
    "plt.plot(y_preds_posterior.var(0)[~error_under_posterior].mean(0), lw=3, label='correct')\n",
    "plt.plot(y_preds_posterior.var(0).mean(0), lw=3, label='all')\n",
    "plt.title('Variance over classes', fontsize=27);\n",
    "plt.xlabel('Classes', fontsize=23)\n",
    "plt.legend(bbox_to_anchor=(0.7, 0.51), loc=2, borderaxespad=0., fontsize=21)\n",
    "plt.tight_layout()\n",
    "plt.savefig('pic/' + DATA + '/variance.png')"
   ]
  },
  {
   "cell_type": "code",
   "execution_count": 21,
   "metadata": {
    "collapsed": false
   },
   "outputs": [
    {
     "data": {
      "image/png": "[encoded data removed]",
      "text/plain": [
       "<matplotlib.figure.Figure at 0x7f1925c2ddd0>"
      ]
     },
     "metadata": {},
     "output_type": "display_data"
    }
   ],
   "source": [
    "y_preds_labels = np.argmax(y_preds_posterior, axis=-1)\n",
    "plt.figure(figsize=(8, 6))\n",
    "plt.tick_params(axis='both', which='major', labelsize=19)\n",
    "plt.tick_params(axis='both', which='minor', labelsize=8)\n",
    "prediction_expected_error_rate = (y_preds_labels != y_pred_posterior).mean(0)\n",
    "plt.hist(prediction_expected_error_rate, bins=20)\n",
    "plt.title('Expected Error Rate', fontsize=27);\n",
    "plt.xlabel('E[error rate]', fontsize=23)\n",
    "plt.ylabel('Number of observations', fontsize=23)\n",
    "plt.tight_layout()\n",
    "plt.savefig('pic/' + DATA + '/eer.png')"
   ]
  },
  {
   "cell_type": "code",
   "execution_count": 22,
   "metadata": {
    "collapsed": false
   },
   "outputs": [
    {
     "data": {
      "text/plain": [
       "0.72529999999999994"
      ]
     },
     "execution_count": 22,
     "metadata": {},
     "output_type": "execute_result"
    }
   ],
   "source": [
    "((prediction_expected_error_rate != 0) == error_under_posterior).mean()"
   ]
  },
  {
   "cell_type": "code",
   "execution_count": 23,
   "metadata": {
    "collapsed": false
   },
   "outputs": [
    {
     "data": {
      "text/plain": [
       "0.014150943396226415"
      ]
     },
     "execution_count": 23,
     "metadata": {},
     "output_type": "execute_result"
    }
   ],
   "source": [
    "(prediction_expected_error_rate[error_under_posterior] == 0).mean()"
   ]
  },
  {
   "cell_type": "code",
   "execution_count": 24,
   "metadata": {
    "collapsed": false
   },
   "outputs": [
    {
     "data": {
      "text/plain": [
       "3"
      ]
     },
     "execution_count": 24,
     "metadata": {},
     "output_type": "execute_result"
    }
   ],
   "source": [
    "(prediction_expected_error_rate[error_under_posterior] == 0).sum()"
   ]
  },
  {
   "cell_type": "code",
   "execution_count": 25,
   "metadata": {
    "collapsed": true
   },
   "outputs": [],
   "source": [
    "houston_we_have_a_problem = prediction_expected_error_rate[error_under_posterior] == 0"
   ]
  },
  {
   "cell_type": "code",
   "execution_count": 59,
   "metadata": {
    "collapsed": true
   },
   "outputs": [],
   "source": [
    "def problem_display():\n",
    "    for i in range(houston_we_have_a_problem.sum()):\n",
    "        print('true:', y_test[error_under_posterior][houston_we_have_a_problem][i],\n",
    "              'prediction:', y_pred_posterior[error_under_posterior][houston_we_have_a_problem][i])\n",
    "        plt.gray();plt.matshow(X_test[error_under_posterior][houston_we_have_a_problem][i][0]);\n",
    "        plt.axis('off')\n",
    "        plt.savefig('pic/'+DATA+'/high_conf/highconf_%d_true_%d_pred_%d.png' % (i, y_test[error_under_posterior][houston_we_have_a_problem][i],\n",
    "                                                               y_pred_posterior[error_under_posterior][houston_we_have_a_problem][i]))\n",
    "        plt.show();"
   ]
  },
  {
   "cell_type": "code",
   "execution_count": 61,
   "metadata": {
    "collapsed": false,
    "scrolled": false
   },
   "outputs": [
    {
     "name": "stdout",
     "output_type": "stream",
     "text": [
      "('true:', 7.0, 'prediction:', 0)\n"
     ]
    },
    {
     "data": {
      "text/plain": [
       "<matplotlib.figure.Figure at 0x7f191ba9a590>"
      ]
     },
     "metadata": {},
     "output_type": "display_data"
    },
    {
     "data": {
      "image/png": "[encoded data removed]",
      "text/plain": [
       "<matplotlib.figure.Figure at 0x7f191ba7b410>"
      ]
     },
     "metadata": {},
     "output_type": "display_data"
    },
    {
     "name": "stdout",
     "output_type": "stream",
     "text": [
      "('true:', 9.0, 'prediction:', 7)\n"
     ]
    },
    {
     "data": {
      "text/plain": [
       "<matplotlib.figure.Figure at 0x7f191c47d6d0>"
      ]
     },
     "metadata": {},
     "output_type": "display_data"
    },
    {
     "data": {
      "image/png": "[encoded data removed]",
      "text/plain": [
       "<matplotlib.figure.Figure at 0x7f191c49b510>"
      ]
     },
     "metadata": {},
     "output_type": "display_data"
    },
    {
     "name": "stdout",
     "output_type": "stream",
     "text": [
      "('true:', 5.0, 'prediction:', 6)\n"
     ]
    },
    {
     "data": {
      "text/plain": [
       "<matplotlib.figure.Figure at 0x7f191bc4fcd0>"
      ]
     },
     "metadata": {},
     "output_type": "display_data"
    },
    {
     "data": {
      "image/png": "[encoded data removed]",
      "text/plain": [
       "<matplotlib.figure.Figure at 0x7f191bc71950>"
      ]
     },
     "metadata": {},
     "output_type": "display_data"
    }
   ],
   "source": [
    "problem_display()"
   ]
  },
  {
   "cell_type": "code",
   "execution_count": 28,
   "metadata": {
    "collapsed": false
   },
   "outputs": [
    {
     "data": {
      "text/plain": [
       "array([3959, 5915, 8034])"
      ]
     },
     "execution_count": 28,
     "metadata": {},
     "output_type": "execute_result"
    }
   ],
   "source": [
    "top_three = np.argsort(prediction_expected_error_rate)[-3:][::-1]\n",
    "top_three"
   ]
  },
  {
   "cell_type": "code",
   "execution_count": 57,
   "metadata": {
    "collapsed": true
   },
   "outputs": [],
   "source": [
    "def low_confidence_examples_display():\n",
    "    cnt = 0\n",
    "    for i in top_three:\n",
    "        print('true:', y_test[i],\n",
    "              'prediction:', y_pred_posterior[i],\n",
    "              'expected error rate:', prediction_expected_error_rate[i]\n",
    "             )\n",
    "        plt.gray();plt.matshow(X_test[i][0]);\n",
    "        plt.axis('off')\n",
    "        plt.savefig('pic/'+DATA+'/low_conf/lowconf_%d_true_%d_pred_%d_eer_%.3f.png' % (cnt, y_test[i], \n",
    "                                                              y_pred_posterior[i], \n",
    "                                                              prediction_expected_error_rate[i]))\n",
    "        cnt += 1\n",
    "        plt.show();"
   ]
  },
  {
   "cell_type": "code",
   "execution_count": 62,
   "metadata": {
    "collapsed": false
   },
   "outputs": [
    {
     "name": "stdout",
     "output_type": "stream",
     "text": [
      "('true:', 4.0, 'prediction:', 0, 'expected error rate:', 0.69999999999999996)\n"
     ]
    },
    {
     "data": {
      "text/plain": [
       "<matplotlib.figure.Figure at 0x7f191c16d950>"
      ]
     },
     "metadata": {},
     "output_type": "display_data"
    },
    {
     "data": {
      "image/png": "[encoded data removed]",
      "text/plain": [
       "<matplotlib.figure.Figure at 0x7f191c15a410>"
      ]
     },
     "metadata": {},
     "output_type": "display_data"
    },
    {
     "name": "stdout",
     "output_type": "stream",
     "text": [
      "('true:', 6.0, 'prediction:', 8, 'expected error rate:', 0.69999999999999996)\n"
     ]
    },
    {
     "data": {
      "text/plain": [
       "<matplotlib.figure.Figure at 0x7f191b95eed0>"
      ]
     },
     "metadata": {},
     "output_type": "display_data"
    },
    {
     "data": {
      "image/png": "[encoded data removed]",
      "text/plain": [
       "<matplotlib.figure.Figure at 0x7f191beca3d0>"
      ]
     },
     "metadata": {},
     "output_type": "display_data"
    },
    {
     "name": "stdout",
     "output_type": "stream",
     "text": [
      "('true:', 1.0, 'prediction:', 1, 'expected error rate:', 0.69999999999999996)\n"
     ]
    },
    {
     "data": {
      "text/plain": [
       "<matplotlib.figure.Figure at 0x7f191c1e5250>"
      ]
     },
     "metadata": {},
     "output_type": "display_data"
    },
    {
     "data": {
      "image/png": "[encoded data removed]",
      "text/plain": [
       "<matplotlib.figure.Figure at 0x7f191c1c4a10>"
      ]
     },
     "metadata": {},
     "output_type": "display_data"
    }
   ],
   "source": [
    "low_confidence_examples_display()"
   ]
  },
  {
   "cell_type": "code",
   "execution_count": null,
   "metadata": {
    "collapsed": true
   },
   "outputs": [],
   "source": []
  }
 ],
 "metadata": {
  "kernelspec": {
   "display_name": "Python 2",
   "language": "python",
   "name": "python2"
  },
  "language_info": {
   "codemirror_mode": {
    "name": "ipython",
    "version": 2
   },
   "file_extension": ".py",
   "mimetype": "text/x-python",
   "name": "python",
   "nbconvert_exporter": "python",
   "pygments_lexer": "ipython2",
   "version": "2.7.12"
  }
 },
 "nbformat": 4,
 "nbformat_minor": 2
}
